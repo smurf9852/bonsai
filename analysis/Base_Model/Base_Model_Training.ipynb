{
 "cells": [
  {
   "cell_type": "code",
   "execution_count": 2,
   "metadata": {
    "colab": {
     "base_uri": "https://localhost:8080/",
     "height": 799
    },
    "colab_type": "code",
    "id": "ZdsOHU0Is94X",
    "outputId": "933afaec-7b53-4c41-c933-02080dd9106a"
   },
   "outputs": [],
   "source": [
    "import sys\n",
    "sys.path.append('../../framework')\n",
    "sys.path.append('../../application')\n",
    "\n",
    "from NetworkClass import Network"
   ]
  },
  {
   "cell_type": "code",
   "execution_count": 9,
   "metadata": {
    "colab": {
     "base_uri": "https://localhost:8080/",
     "height": 163
    },
    "colab_type": "code",
    "id": "akUYqsLSyNOz",
    "outputId": "d49593f9-c440-40fd-a2cb-5e891e5ca7ed"
   },
   "outputs": [
    {
     "data": {
      "text/plain": [
       "Network(\n",
       "  (input_layer): Linear(in_features=784, out_features=168, bias=True)\n",
       "  (hidden_layers): ModuleList(\n",
       "    (0): Linear(in_features=168, out_features=168, bias=True)\n",
       "    (1): Linear(in_features=168, out_features=168, bias=True)\n",
       "  )\n",
       "  (output_layer): Linear(in_features=168, out_features=10, bias=True)\n",
       ")"
      ]
     },
     "execution_count": 9,
     "metadata": {},
     "output_type": "execute_result"
    }
   ],
   "source": [
    "model_dict = {\n",
    "        \"network\": {\n",
    "            'input_layer': {\n",
    "                \"units\": 784,\n",
    "\n",
    "            },\n",
    "            'hidden_layer': [{\n",
    "                \"units\": 168,\n",
    "                \"activation\": \"relu\",\n",
    "                \"type\": \"Linear\"\n",
    "            },\n",
    "                {\n",
    "                    \"units\": 168,\n",
    "                    \"activation\": \"relu\",\n",
    "                    \"type\": \"Linear\"\n",
    "\n",
    "            },\n",
    "                {\n",
    "                    \"units\": 168,\n",
    "                    \"activation\": \"relu\",\n",
    "                    \"type\": \"Linear\"\n",
    "\n",
    "            }\n",
    "            ],\n",
    "            'output_layer': {\n",
    "                \"units\": 10,\n",
    "                \"activation\": \"softmax\",\n",
    "                \"type\": \"Linear\"\n",
    "            }\n",
    "        }\n",
    "    }\n",
    "model = Network(model_dict)\n",
    "model"
   ]
  },
  {
   "cell_type": "code",
   "execution_count": null,
   "metadata": {
    "colab": {
     "base_uri": "https://localhost:8080/",
     "height": 1000
    },
    "colab_type": "code",
    "id": "5q8_Vb2Z00xf",
    "outputId": "f526b9cf-4e6d-4ddb-9d67-89a36f259d0c"
   },
   "outputs": [
    {
     "name": "stdout",
     "output_type": "stream",
     "text": [
      "Fold: 1\n",
      "Epoch: 0\n"
     ]
    },
    {
     "name": "stderr",
     "output_type": "stream",
     "text": [
      "1026-INFO-{'training_time': 8.117594718933105, 'inference_time': 0.010701383863176619, 'model_parameters': 190354, 'training_acc': tensor(10.2125), 'test_acc': tensor(11.3714)}\n",
      "1026-INFO-Network(\n",
      "  (input_layer): Linear(in_features=784, out_features=168, bias=True)\n",
      "  (hidden_layers): ModuleList(\n",
      "    (0): Linear(in_features=168, out_features=168, bias=True)\n",
      "    (1): Linear(in_features=168, out_features=168, bias=True)\n",
      "  )\n",
      "  (output_layer): Linear(in_features=168, out_features=10, bias=True)\n",
      ")\n"
     ]
    },
    {
     "name": "stdout",
     "output_type": "stream",
     "text": [
      "Epoch: 1\n"
     ]
    },
    {
     "name": "stderr",
     "output_type": "stream",
     "text": [
      "1026-INFO-{'training_time': 7.437199115753174, 'inference_time': 0.009059395108904158, 'model_parameters': 190354, 'training_acc': tensor(12.4911), 'test_acc': tensor(15.8000)}\n",
      "1026-INFO-Network(\n",
      "  (input_layer): Linear(in_features=784, out_features=168, bias=True)\n",
      "  (hidden_layers): ModuleList(\n",
      "    (0): Linear(in_features=168, out_features=168, bias=True)\n",
      "    (1): Linear(in_features=168, out_features=168, bias=True)\n",
      "  )\n",
      "  (output_layer): Linear(in_features=168, out_features=10, bias=True)\n",
      ")\n"
     ]
    },
    {
     "name": "stdout",
     "output_type": "stream",
     "text": [
      "Epoch: 2\n"
     ]
    },
    {
     "name": "stderr",
     "output_type": "stream",
     "text": [
      "1026-INFO-{'training_time': 8.166162729263306, 'inference_time': 0.009328808103288923, 'model_parameters': 190354, 'training_acc': tensor(16.7750), 'test_acc': tensor(17.7143)}\n",
      "1026-INFO-Network(\n",
      "  (input_layer): Linear(in_features=784, out_features=168, bias=True)\n",
      "  (hidden_layers): ModuleList(\n",
      "    (0): Linear(in_features=168, out_features=168, bias=True)\n",
      "    (1): Linear(in_features=168, out_features=168, bias=True)\n",
      "  )\n",
      "  (output_layer): Linear(in_features=168, out_features=10, bias=True)\n",
      ")\n"
     ]
    },
    {
     "name": "stdout",
     "output_type": "stream",
     "text": [
      "Epoch: 3\n"
     ]
    },
    {
     "name": "stderr",
     "output_type": "stream",
     "text": [
      "1026-INFO-{'training_time': 6.8445940017700195, 'inference_time': 0.008230175290788923, 'model_parameters': 190354, 'training_acc': tensor(18.7286), 'test_acc': tensor(18.4143)}\n",
      "1026-INFO-Network(\n",
      "  (input_layer): Linear(in_features=784, out_features=168, bias=True)\n",
      "  (hidden_layers): ModuleList(\n",
      "    (0): Linear(in_features=168, out_features=168, bias=True)\n",
      "    (1): Linear(in_features=168, out_features=168, bias=True)\n",
      "  )\n",
      "  (output_layer): Linear(in_features=168, out_features=10, bias=True)\n",
      ")\n"
     ]
    },
    {
     "name": "stdout",
     "output_type": "stream",
     "text": [
      "Epoch: 4\n"
     ]
    },
    {
     "name": "stderr",
     "output_type": "stream",
     "text": [
      "1026-INFO-{'training_time': 6.723614454269409, 'inference_time': 0.009273069245474679, 'model_parameters': 190354, 'training_acc': tensor(18.8500), 'test_acc': tensor(18.8000)}\n",
      "1026-INFO-Network(\n",
      "  (input_layer): Linear(in_features=784, out_features=168, bias=True)\n",
      "  (hidden_layers): ModuleList(\n",
      "    (0): Linear(in_features=168, out_features=168, bias=True)\n",
      "    (1): Linear(in_features=168, out_features=168, bias=True)\n",
      "  )\n",
      "  (output_layer): Linear(in_features=168, out_features=10, bias=True)\n",
      ")\n"
     ]
    },
    {
     "name": "stdout",
     "output_type": "stream",
     "text": [
      "Epoch: 5\n"
     ]
    },
    {
     "name": "stderr",
     "output_type": "stream",
     "text": [
      "1026-INFO-{'training_time': 7.547172784805298, 'inference_time': 0.009976744651794434, 'model_parameters': 190354, 'training_acc': tensor(19.2036), 'test_acc': tensor(18.9143)}\n",
      "1026-INFO-Network(\n",
      "  (input_layer): Linear(in_features=784, out_features=168, bias=True)\n",
      "  (hidden_layers): ModuleList(\n",
      "    (0): Linear(in_features=168, out_features=168, bias=True)\n",
      "    (1): Linear(in_features=168, out_features=168, bias=True)\n",
      "  )\n",
      "  (output_layer): Linear(in_features=168, out_features=10, bias=True)\n",
      ")\n"
     ]
    },
    {
     "name": "stdout",
     "output_type": "stream",
     "text": [
      "Epoch: 6\n"
     ]
    },
    {
     "name": "stderr",
     "output_type": "stream",
     "text": [
      "1026-INFO-{'training_time': 6.717978239059448, 'inference_time': 0.008287497929164342, 'model_parameters': 190354, 'training_acc': tensor(19.0875), 'test_acc': tensor(18.9071)}\n",
      "1026-INFO-Network(\n",
      "  (input_layer): Linear(in_features=784, out_features=168, bias=True)\n",
      "  (hidden_layers): ModuleList(\n",
      "    (0): Linear(in_features=168, out_features=168, bias=True)\n",
      "    (1): Linear(in_features=168, out_features=168, bias=True)\n",
      "  )\n",
      "  (output_layer): Linear(in_features=168, out_features=10, bias=True)\n",
      ")\n"
     ]
    },
    {
     "name": "stdout",
     "output_type": "stream",
     "text": [
      "Epoch: 7\n"
     ]
    },
    {
     "name": "stderr",
     "output_type": "stream",
     "text": [
      "1026-INFO-{'training_time': 6.954766035079956, 'inference_time': 0.008689744131905692, 'model_parameters': 190354, 'training_acc': tensor(19.1429), 'test_acc': tensor(18.8929)}\n",
      "1026-INFO-Network(\n",
      "  (input_layer): Linear(in_features=784, out_features=168, bias=True)\n",
      "  (hidden_layers): ModuleList(\n",
      "    (0): Linear(in_features=168, out_features=168, bias=True)\n",
      "    (1): Linear(in_features=168, out_features=168, bias=True)\n",
      "  )\n",
      "  (output_layer): Linear(in_features=168, out_features=10, bias=True)\n",
      ")\n"
     ]
    },
    {
     "name": "stdout",
     "output_type": "stream",
     "text": [
      "Epoch: 8\n"
     ]
    },
    {
     "name": "stderr",
     "output_type": "stream",
     "text": [
      "1026-INFO-{'training_time': 7.756196022033691, 'inference_time': 0.009314468928745814, 'model_parameters': 190354, 'training_acc': tensor(19.0964), 'test_acc': tensor(18.8571)}\n",
      "1026-INFO-Network(\n",
      "  (input_layer): Linear(in_features=784, out_features=168, bias=True)\n",
      "  (hidden_layers): ModuleList(\n",
      "    (0): Linear(in_features=168, out_features=168, bias=True)\n",
      "    (1): Linear(in_features=168, out_features=168, bias=True)\n",
      "  )\n",
      "  (output_layer): Linear(in_features=168, out_features=10, bias=True)\n",
      ")\n"
     ]
    },
    {
     "name": "stdout",
     "output_type": "stream",
     "text": [
      "Epoch: 9\n"
     ]
    },
    {
     "name": "stderr",
     "output_type": "stream",
     "text": [
      "1026-INFO-{'training_time': 6.881080627441406, 'inference_time': 0.008947900363377162, 'model_parameters': 190354, 'training_acc': tensor(19.1518), 'test_acc': tensor(18.8214)}\n",
      "1026-INFO-Network(\n",
      "  (input_layer): Linear(in_features=784, out_features=168, bias=True)\n",
      "  (hidden_layers): ModuleList(\n",
      "    (0): Linear(in_features=168, out_features=168, bias=True)\n",
      "    (1): Linear(in_features=168, out_features=168, bias=True)\n",
      "  )\n",
      "  (output_layer): Linear(in_features=168, out_features=10, bias=True)\n",
      ")\n"
     ]
    },
    {
     "name": "stdout",
     "output_type": "stream",
     "text": [
      "Epoch: 10\n"
     ]
    },
    {
     "name": "stderr",
     "output_type": "stream",
     "text": [
      "1026-INFO-{'training_time': 7.33351469039917, 'inference_time': 0.008468730109078544, 'model_parameters': 190354, 'training_acc': tensor(19.1732), 'test_acc': tensor(18.8286)}\n",
      "1026-INFO-Network(\n",
      "  (input_layer): Linear(in_features=784, out_features=168, bias=True)\n",
      "  (hidden_layers): ModuleList(\n",
      "    (0): Linear(in_features=168, out_features=168, bias=True)\n",
      "    (1): Linear(in_features=168, out_features=168, bias=True)\n",
      "  )\n",
      "  (output_layer): Linear(in_features=168, out_features=10, bias=True)\n",
      ")\n"
     ]
    },
    {
     "name": "stdout",
     "output_type": "stream",
     "text": [
      "Epoch: 11\n"
     ]
    },
    {
     "name": "stderr",
     "output_type": "stream",
     "text": [
      "1026-INFO-{'training_time': 6.826056241989136, 'inference_time': 0.01034602097102574, 'model_parameters': 190354, 'training_acc': tensor(19.0732), 'test_acc': tensor(18.7786)}\n",
      "1026-INFO-Network(\n",
      "  (input_layer): Linear(in_features=784, out_features=168, bias=True)\n",
      "  (hidden_layers): ModuleList(\n",
      "    (0): Linear(in_features=168, out_features=168, bias=True)\n",
      "    (1): Linear(in_features=168, out_features=168, bias=True)\n",
      "  )\n",
      "  (output_layer): Linear(in_features=168, out_features=10, bias=True)\n",
      ")\n"
     ]
    },
    {
     "name": "stdout",
     "output_type": "stream",
     "text": [
      "Epoch: 12\n"
     ]
    },
    {
     "name": "stderr",
     "output_type": "stream",
     "text": [
      "1026-INFO-{'training_time': 7.60947060585022, 'inference_time': 0.010451538222176688, 'model_parameters': 190354, 'training_acc': tensor(19.0482), 'test_acc': tensor(18.7214)}\n",
      "1026-INFO-Network(\n",
      "  (input_layer): Linear(in_features=784, out_features=168, bias=True)\n",
      "  (hidden_layers): ModuleList(\n",
      "    (0): Linear(in_features=168, out_features=168, bias=True)\n",
      "    (1): Linear(in_features=168, out_features=168, bias=True)\n",
      "  )\n",
      "  (output_layer): Linear(in_features=168, out_features=10, bias=True)\n",
      ")\n"
     ]
    },
    {
     "name": "stdout",
     "output_type": "stream",
     "text": [
      "Epoch: 13\n"
     ]
    },
    {
     "name": "stderr",
     "output_type": "stream",
     "text": [
      "1026-INFO-{'training_time': 6.521756172180176, 'inference_time': 0.009360551834106445, 'model_parameters': 190354, 'training_acc': tensor(18.9125), 'test_acc': tensor(18.6571)}\n",
      "1026-INFO-Network(\n",
      "  (input_layer): Linear(in_features=784, out_features=168, bias=True)\n",
      "  (hidden_layers): ModuleList(\n",
      "    (0): Linear(in_features=168, out_features=168, bias=True)\n",
      "    (1): Linear(in_features=168, out_features=168, bias=True)\n",
      "  )\n",
      "  (output_layer): Linear(in_features=168, out_features=10, bias=True)\n",
      ")\n"
     ]
    },
    {
     "name": "stdout",
     "output_type": "stream",
     "text": [
      "Epoch: 14\n"
     ]
    },
    {
     "name": "stderr",
     "output_type": "stream",
     "text": [
      "1026-INFO-{'training_time': 6.752145767211914, 'inference_time': 0.010638577597481864, 'model_parameters': 190354, 'training_acc': tensor(18.8107), 'test_acc': tensor(18.5500)}\n",
      "1026-INFO-Network(\n",
      "  (input_layer): Linear(in_features=784, out_features=168, bias=True)\n",
      "  (hidden_layers): ModuleList(\n",
      "    (0): Linear(in_features=168, out_features=168, bias=True)\n",
      "    (1): Linear(in_features=168, out_features=168, bias=True)\n",
      "  )\n",
      "  (output_layer): Linear(in_features=168, out_features=10, bias=True)\n",
      ")\n"
     ]
    },
    {
     "name": "stdout",
     "output_type": "stream",
     "text": [
      "Epoch: 15\n"
     ]
    },
    {
     "name": "stderr",
     "output_type": "stream",
     "text": [
      "1026-INFO-{'training_time': 7.019903659820557, 'inference_time': 0.009214707783290319, 'model_parameters': 190354, 'training_acc': tensor(18.8393), 'test_acc': tensor(18.4000)}\n",
      "1026-INFO-Network(\n",
      "  (input_layer): Linear(in_features=784, out_features=168, bias=True)\n",
      "  (hidden_layers): ModuleList(\n",
      "    (0): Linear(in_features=168, out_features=168, bias=True)\n",
      "    (1): Linear(in_features=168, out_features=168, bias=True)\n",
      "  )\n",
      "  (output_layer): Linear(in_features=168, out_features=10, bias=True)\n",
      ")\n"
     ]
    },
    {
     "name": "stdout",
     "output_type": "stream",
     "text": [
      "Epoch: 16\n"
     ]
    },
    {
     "name": "stderr",
     "output_type": "stream",
     "text": [
      "1026-INFO-{'training_time': 6.505169868469238, 'inference_time': 0.007090892110552106, 'model_parameters': 190354, 'training_acc': tensor(19.0964), 'test_acc': tensor(20.5429)}\n",
      "1026-INFO-Network(\n",
      "  (input_layer): Linear(in_features=784, out_features=168, bias=True)\n",
      "  (hidden_layers): ModuleList(\n",
      "    (0): Linear(in_features=168, out_features=168, bias=True)\n",
      "    (1): Linear(in_features=168, out_features=168, bias=True)\n",
      "  )\n",
      "  (output_layer): Linear(in_features=168, out_features=10, bias=True)\n",
      ")\n"
     ]
    },
    {
     "name": "stdout",
     "output_type": "stream",
     "text": [
      "Epoch: 17\n"
     ]
    },
    {
     "name": "stderr",
     "output_type": "stream",
     "text": [
      "1026-INFO-{'training_time': 6.561925411224365, 'inference_time': 0.009420292718069894, 'model_parameters': 190354, 'training_acc': tensor(25.6036), 'test_acc': tensor(29.9500)}\n",
      "1026-INFO-Network(\n",
      "  (input_layer): Linear(in_features=784, out_features=168, bias=True)\n",
      "  (hidden_layers): ModuleList(\n",
      "    (0): Linear(in_features=168, out_features=168, bias=True)\n",
      "    (1): Linear(in_features=168, out_features=168, bias=True)\n",
      "  )\n",
      "  (output_layer): Linear(in_features=168, out_features=10, bias=True)\n",
      ")\n"
     ]
    },
    {
     "name": "stdout",
     "output_type": "stream",
     "text": [
      "Epoch: 18\n"
     ]
    },
    {
     "name": "stderr",
     "output_type": "stream",
     "text": [
      "1026-INFO-{'training_time': 7.072369337081909, 'inference_time': 0.007918017251150948, 'model_parameters': 190354, 'training_acc': tensor(30.7839), 'test_acc': tensor(30.6786)}\n",
      "1026-INFO-Network(\n",
      "  (input_layer): Linear(in_features=784, out_features=168, bias=True)\n",
      "  (hidden_layers): ModuleList(\n",
      "    (0): Linear(in_features=168, out_features=168, bias=True)\n",
      "    (1): Linear(in_features=168, out_features=168, bias=True)\n",
      "  )\n",
      "  (output_layer): Linear(in_features=168, out_features=10, bias=True)\n",
      ")\n"
     ]
    },
    {
     "name": "stdout",
     "output_type": "stream",
     "text": [
      "Epoch: 19\n"
     ]
    },
    {
     "name": "stderr",
     "output_type": "stream",
     "text": [
      "1026-INFO-{'training_time': 6.9388768672943115, 'inference_time': 0.009324380329677038, 'model_parameters': 190354, 'training_acc': tensor(30.1054), 'test_acc': tensor(28.6643)}\n",
      "1026-INFO-Network(\n",
      "  (input_layer): Linear(in_features=784, out_features=168, bias=True)\n",
      "  (hidden_layers): ModuleList(\n",
      "    (0): Linear(in_features=168, out_features=168, bias=True)\n",
      "    (1): Linear(in_features=168, out_features=168, bias=True)\n",
      "  )\n",
      "  (output_layer): Linear(in_features=168, out_features=10, bias=True)\n",
      ")\n"
     ]
    },
    {
     "name": "stdout",
     "output_type": "stream",
     "text": [
      "Epoch: 20\n"
     ]
    },
    {
     "name": "stderr",
     "output_type": "stream",
     "text": [
      "1026-INFO-{'training_time': 7.671156883239746, 'inference_time': 0.00856477873665946, 'model_parameters': 190354, 'training_acc': tensor(27.6304), 'test_acc': tensor(24.9643)}\n",
      "1026-INFO-Network(\n",
      "  (input_layer): Linear(in_features=784, out_features=168, bias=True)\n",
      "  (hidden_layers): ModuleList(\n",
      "    (0): Linear(in_features=168, out_features=168, bias=True)\n",
      "    (1): Linear(in_features=168, out_features=168, bias=True)\n",
      "  )\n",
      "  (output_layer): Linear(in_features=168, out_features=10, bias=True)\n",
      ")\n"
     ]
    },
    {
     "name": "stdout",
     "output_type": "stream",
     "text": [
      "Epoch: 21\n"
     ]
    }
   ],
   "source": [
    "import logging\n",
    "import string\n",
    "import random\n",
    "import os\n",
    "import torch\n",
    "import torchvision\n",
    "from sklearn.model_selection import KFold\n",
    "\n",
    "from Experiment import Experiment\n",
    "from train_utils import ReshapeTransform\n",
    "\n",
    "\n",
    "def randomString(stringLength=10):\n",
    "    \"\"\"Generate a random string of fixed length \"\"\"\n",
    "    letters = string.ascii_lowercase\n",
    "    return ''.join(random.choice(letters) for i in range(stringLength))\n",
    "\n",
    "logging.basicConfig(level=logging.INFO)\n",
    "\n",
    "if not(os.path.isdir('models')):\n",
    "  os.mkdir('models')\n",
    "\n",
    "params_dict = {\n",
    "  \"batch_size_train\": 100,\n",
    "  \"learning_rate\": 0.01,\n",
    "  \"batch_size_test\": 1000,\n",
    "  \"n_epochs\": 200\n",
    "}\n",
    "\n",
    "seed = 42\n",
    "uid = randomString(stringLength=6)\n",
    "\n",
    "device = torch.device(\"cuda:0\" if torch.cuda.is_available() else \"cpu\")\n",
    "if torch.cuda.is_available():\n",
    "  torch.cuda.manual_seed(seed)\n",
    "else:\n",
    "  torch.manual_seed(seed)\n",
    "\n",
    "\n",
    "params_dict[\"model\"] = model_dict\n",
    "\n",
    "train_dataset = torchvision.datasets.FashionMNIST('../data/', train=True, download=True,\n",
    "                                                                  transform=torchvision.transforms.Compose([\n",
    "                                                                      torchvision.transforms.ToTensor(),\n",
    "                                                                      ReshapeTransform(\n",
    "                                                                          (-1,))\n",
    "                                                                  ]))\n",
    "\n",
    "test_dataset = torchvision.datasets.FashionMNIST('../data/', train=False, download=True,\n",
    "                                                                 transform=torchvision.transforms.Compose([\n",
    "                                                                     torchvision.transforms.ToTensor(),\n",
    "                                                                     ReshapeTransform(\n",
    "                                                                         (-1,))\n",
    "                                                                 ]))\n",
    "\n",
    "dataset = torch.utils.data.ConcatDataset(\n",
    "                    [train_dataset, test_dataset])\n",
    "\n",
    "kf = KFold(n_splits=5, shuffle=True, random_state=seed)\n",
    "for i_fold, (train_index, test_index) in enumerate(kf.split(dataset)):\n",
    "    print(\"Fold: {}\".format(i_fold+1))\n",
    "    # new fold - network from scratch\n",
    "    experiment = Experiment(device)\n",
    "    model = Network(model_dict)\n",
    "    params_dict[\"fold\"] = i_fold+1\n",
    "    # set the dataloaders for the fold\n",
    "    train = torch.utils.data.Subset(dataset, train_index)\n",
    "    test = torch.utils.data.Subset(dataset, test_index)\n",
    "    train_loader = torch.utils.data.DataLoader(\n",
    "        train, batch_size=params_dict[\"batch_size_train\"], shuffle=True)\n",
    "    test_loader = torch.utils.data.DataLoader(\n",
    "        test, batch_size=params_dict[\"batch_size_test\"], shuffle=True)\n",
    "    # set up the experiment\n",
    "    experiment.set_metadata(params_dict)\n",
    "    experiment.set_network(model_dict)\n",
    "    experiment.set_loaders(train_loader, test_loader)\n",
    "    experiment.set_loss(torch.nn.CrossEntropyLoss())\n",
    "\n",
    "    # training loop\n",
    "    for idx, epoch in enumerate(range(params_dict[\"n_epochs\"])):\n",
    "        print(\"Epoch: {}\".format(epoch))\n",
    "        epoch_vals = experiment.train_epoch(epoch)\n",
    "        logging.info(epoch_vals)\n",
    "        logging.info(experiment.network)\n",
    "        experiment.save_weights({\n",
    "            'epoch': epoch,\n",
    "            'state_dict': experiment.network.state_dict(),\n",
    "            'train_acc': experiment.tacc,\n",
    "            'val_acc': experiment.acc,\n",
    "            'train_loss': experiment.trainLoss,\n",
    "            'val_loss': experiment.testLoss,\n",
    "            'optimizer': experiment.optimizer.state_dict(),\n",
    "            'traint': experiment.traint,\n",
    "            'traini': experiment.traini,\n",
    "            'params': experiment.params_dict\n",
    "        }, 'models/{}_{}.pth.tar'.format(uid, epoch,))\n"
   ]
  },
  {
   "cell_type": "code",
   "execution_count": null,
   "metadata": {},
   "outputs": [],
   "source": []
  }
 ],
 "metadata": {
  "accelerator": "GPU",
  "colab": {
   "collapsed_sections": [],
   "name": "Updated_Tensorboard_and_Model_Search.ipynb",
   "provenance": [],
   "toc_visible": true
  },
  "kernelspec": {
   "display_name": "Python 3",
   "language": "python",
   "name": "python3"
  },
  "language_info": {
   "codemirror_mode": {
    "name": "ipython",
    "version": 3
   },
   "file_extension": ".py",
   "mimetype": "text/x-python",
   "name": "python",
   "nbconvert_exporter": "python",
   "pygments_lexer": "ipython3",
   "version": "3.6.7"
  }
 },
 "nbformat": 4,
 "nbformat_minor": 1
}

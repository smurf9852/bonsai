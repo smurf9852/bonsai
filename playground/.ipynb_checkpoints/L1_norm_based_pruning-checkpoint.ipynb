{
 "cells": [
  {
   "cell_type": "code",
   "execution_count": 54,
   "metadata": {},
   "outputs": [],
   "source": [
    "import sys\n",
    "sys.path.append('../framework')\n",
    "from NetworkClass import Network\n",
    "import torch.nn.functional as F\n",
    "from torch import nn"
   ]
  },
  {
   "cell_type": "code",
   "execution_count": 55,
   "metadata": {},
   "outputs": [
    {
     "name": "stdout",
     "output_type": "stream",
     "text": [
      "softmax\n"
     ]
    }
   ],
   "source": [
    "model = Network({\n",
    "        \"network\":{\n",
    "            'input_layer': {\n",
    "                \"units\": 784,\n",
    "                \n",
    "                },\n",
    "            'hidden_layer': [{\n",
    "                    \"units\": 400, \n",
    "                    \"type\": \"Linear\"\n",
    "                }, \n",
    "                {\n",
    "                    \"units\": 50, \n",
    "                    \"activation\": \"relu\",\n",
    "                    \"type\": \"Linear\"\n",
    "\n",
    "                }],\n",
    "            'output_layer': {\n",
    "                \"units\": 10,\n",
    "                \"activation\": \"softmax\",\n",
    "                \"type\": \"Linear\"\n",
    "                }\n",
    "        }\n",
    "    })"
   ]
  },
  {
   "cell_type": "code",
   "execution_count": 56,
   "metadata": {},
   "outputs": [
    {
     "name": "stdout",
     "output_type": "stream",
     "text": [
      "Layer 0 , Parameters: torch.Size([400, 784])\n",
      "Layer 1 , Parameters: torch.Size([400])\n",
      "Layer 2 , Parameters: torch.Size([50, 400])\n",
      "Layer 3 , Parameters: torch.Size([50])\n",
      "Layer 4 , Parameters: torch.Size([10, 50])\n",
      "Layer 5 , Parameters: torch.Size([10])\n"
     ]
    }
   ],
   "source": [
    "for (layer, param) in enumerate(model.parameters()):\n",
    "    print(\"Layer {} , Parameters: {}\".format(layer, param.shape))"
   ]
  },
  {
   "cell_type": "code",
   "execution_count": 57,
   "metadata": {},
   "outputs": [],
   "source": [
    "from torch.utils.data import DataLoader, Dataset, TensorDataset\n",
    "import torchvision\n",
    "import torch\n",
    "import torch.nn as nn\n"
   ]
  },
  {
   "cell_type": "code",
   "execution_count": 58,
   "metadata": {},
   "outputs": [],
   "source": [
    "batch_size_train = 64\n",
    "batch_size_test = 1000\n",
    "n_epochs = 3\n",
    "learning_rate = 0.01\n",
    "momentum = 0.5\n",
    "log_interval = 10\n",
    "random_seed = 1"
   ]
  },
  {
   "cell_type": "code",
   "execution_count": 59,
   "metadata": {},
   "outputs": [],
   "source": [
    "class ReshapeTransform:\n",
    "    def __init__(self, new_size):\n",
    "        self.new_size = new_size\n",
    "\n",
    "    def __call__(self, img):\n",
    "        return torch.reshape(img, self.new_size)"
   ]
  },
  {
   "cell_type": "code",
   "execution_count": 60,
   "metadata": {},
   "outputs": [],
   "source": [
    "train_loader = torch.utils.data.DataLoader(\n",
    "  torchvision.datasets.MNIST('../data/', train=True, download=True,\n",
    "                             transform=torchvision.transforms.Compose([\n",
    "                               torchvision.transforms.ToTensor(),\n",
    "                               torchvision.transforms.Normalize(\n",
    "                                 (0.1307,), (0.3081,)), ReshapeTransform((-1,))\n",
    "                             ])),\n",
    "  batch_size=batch_size_train, shuffle=True)\n",
    "\n",
    "\n",
    "test_loader = torch.utils.data.DataLoader(\n",
    "  torchvision.datasets.MNIST('../data/', train=False, download=True,\n",
    "                             transform=torchvision.transforms.Compose([\n",
    "                               torchvision.transforms.ToTensor(),\n",
    "                               torchvision.transforms.Normalize(\n",
    "                                 (0.1307,), (0.3081,)), ReshapeTransform((-1,))\n",
    "                             ])),\n",
    "  batch_size=batch_size_test, shuffle=True)"
   ]
  },
  {
   "cell_type": "code",
   "execution_count": 61,
   "metadata": {},
   "outputs": [],
   "source": [
    "examples = enumerate(test_loader)\n",
    "batch_idx, (example_data, example_targets) = next(examples)"
   ]
  },
  {
   "cell_type": "code",
   "execution_count": 62,
   "metadata": {},
   "outputs": [
    {
     "data": {
      "text/plain": [
       "torch.Size([1000, 784])"
      ]
     },
     "execution_count": 62,
     "metadata": {},
     "output_type": "execute_result"
    }
   ],
   "source": [
    "example_data.shape"
   ]
  },
  {
   "cell_type": "code",
   "execution_count": 63,
   "metadata": {},
   "outputs": [],
   "source": [
    "# import matplotlib.pyplot as plt\n",
    "\n",
    "# fig = plt.figure()\n",
    "# for i in range(6):\n",
    "#   plt.subplot(2,3,i+1)\n",
    "#   plt.tight_layout()\n",
    "#   plt.imshow(example_data[i][0], cmap='gray', interpolation='none')\n",
    "#   plt.title(\"Ground Truth: {}\".format(example_targets[i]))\n",
    "#   plt.xticks([])\n",
    "#   plt.yticks([])"
   ]
  },
  {
   "cell_type": "code",
   "execution_count": 64,
   "metadata": {},
   "outputs": [],
   "source": [
    "criterion = nn.CrossEntropyLoss()\n",
    "optimizer = torch.optim.SGD(model.parameters(), lr=learning_rate,\n",
    "                      momentum=momentum)"
   ]
  },
  {
   "cell_type": "code",
   "execution_count": 65,
   "metadata": {},
   "outputs": [],
   "source": [
    "train_losses = []\n",
    "train_counter = []\n",
    "test_losses = []\n",
    "test_counter = [i*len(train_loader.dataset) for i in range(n_epochs + 1)]"
   ]
  },
  {
   "cell_type": "code",
   "execution_count": 66,
   "metadata": {},
   "outputs": [],
   "source": [
    "def train(epoch):\n",
    "  model.train()\n",
    "  for batch_idx, (data, target) in enumerate(train_loader):\n",
    "    optimizer.zero_grad()\n",
    "    output = model(data)\n",
    "    loss = criterion(output, target)\n",
    "    loss.backward()\n",
    "    optimizer.step()\n",
    "    if batch_idx % log_interval == 0:\n",
    "      print('Train Epoch: {} [{}/{} ({:.0f}%)]\\tLoss: {:.6f}'.format(\n",
    "        epoch, batch_idx * len(data), len(train_loader.dataset),\n",
    "        100. * batch_idx / len(train_loader), loss.item()))\n",
    "      train_losses.append(loss.item())\n",
    "      train_counter.append(\n",
    "        (batch_idx*64) + ((epoch-1)*len(train_loader.dataset)))"
   ]
  },
  {
   "cell_type": "code",
   "execution_count": 67,
   "metadata": {},
   "outputs": [],
   "source": [
    "def test():\n",
    "  model.eval()\n",
    "  test_loss = 0\n",
    "  correct = 0\n",
    "  with torch.no_grad():\n",
    "    for data, target in test_loader:\n",
    "      output = model(data)\n",
    "      test_loss += criterion(output, target).item()\n",
    "      pred = output.data.max(1, keepdim=True)[1]\n",
    "      correct += pred.eq(target.data.view_as(pred)).sum()\n",
    "  test_loss /= len(test_loader.dataset)\n",
    "  test_losses.append(test_loss)\n",
    "  print('\\nTest set: Avg. loss: {:.4f}, Accuracy: {}/{} ({:.0f}%)\\n'.format(\n",
    "    test_loss, correct, len(test_loader.dataset),\n",
    "    100. * correct / len(test_loader.dataset)))"
   ]
  },
  {
   "cell_type": "code",
   "execution_count": 68,
   "metadata": {},
   "outputs": [
    {
     "name": "stdout",
     "output_type": "stream",
     "text": [
      "\n",
      "Test set: Avg. loss: 0.0023, Accuracy: 851/10000 (9%)\n",
      "\n",
      "Train Epoch: 1 [0/60000 (0%)]\tLoss: 2.301874\n",
      "Train Epoch: 1 [640/60000 (1%)]\tLoss: 2.304810\n",
      "Train Epoch: 1 [1280/60000 (2%)]\tLoss: 2.301479\n",
      "Train Epoch: 1 [1920/60000 (3%)]\tLoss: 2.301154\n",
      "Train Epoch: 1 [2560/60000 (4%)]\tLoss: 2.301389\n",
      "Train Epoch: 1 [3200/60000 (5%)]\tLoss: 2.298448\n",
      "Train Epoch: 1 [3840/60000 (6%)]\tLoss: 2.297366\n",
      "Train Epoch: 1 [4480/60000 (7%)]\tLoss: 2.299000\n",
      "Train Epoch: 1 [5120/60000 (9%)]\tLoss: 2.295267\n",
      "Train Epoch: 1 [5760/60000 (10%)]\tLoss: 2.300405\n",
      "Train Epoch: 1 [6400/60000 (11%)]\tLoss: 2.293682\n",
      "Train Epoch: 1 [7040/60000 (12%)]\tLoss: 2.297883\n",
      "Train Epoch: 1 [7680/60000 (13%)]\tLoss: 2.295029\n",
      "Train Epoch: 1 [8320/60000 (14%)]\tLoss: 2.296580\n",
      "Train Epoch: 1 [8960/60000 (15%)]\tLoss: 2.296351\n",
      "Train Epoch: 1 [9600/60000 (16%)]\tLoss: 2.295724\n",
      "Train Epoch: 1 [10240/60000 (17%)]\tLoss: 2.293335\n",
      "Train Epoch: 1 [10880/60000 (18%)]\tLoss: 2.289877\n",
      "Train Epoch: 1 [11520/60000 (19%)]\tLoss: 2.286793\n",
      "Train Epoch: 1 [12160/60000 (20%)]\tLoss: 2.296706\n",
      "Train Epoch: 1 [12800/60000 (21%)]\tLoss: 2.289352\n",
      "Train Epoch: 1 [13440/60000 (22%)]\tLoss: 2.289828\n",
      "Train Epoch: 1 [14080/60000 (23%)]\tLoss: 2.282182\n",
      "Train Epoch: 1 [14720/60000 (25%)]\tLoss: 2.285763\n",
      "Train Epoch: 1 [15360/60000 (26%)]\tLoss: 2.285380\n",
      "Train Epoch: 1 [16000/60000 (27%)]\tLoss: 2.281062\n",
      "Train Epoch: 1 [16640/60000 (28%)]\tLoss: 2.272206\n",
      "Train Epoch: 1 [17280/60000 (29%)]\tLoss: 2.279777\n",
      "Train Epoch: 1 [17920/60000 (30%)]\tLoss: 2.279478\n",
      "Train Epoch: 1 [18560/60000 (31%)]\tLoss: 2.271461\n",
      "Train Epoch: 1 [19200/60000 (32%)]\tLoss: 2.274141\n",
      "Train Epoch: 1 [19840/60000 (33%)]\tLoss: 2.272897\n",
      "Train Epoch: 1 [20480/60000 (34%)]\tLoss: 2.262640\n",
      "Train Epoch: 1 [21120/60000 (35%)]\tLoss: 2.259798\n",
      "Train Epoch: 1 [21760/60000 (36%)]\tLoss: 2.269544\n",
      "Train Epoch: 1 [22400/60000 (37%)]\tLoss: 2.267275\n",
      "Train Epoch: 1 [23040/60000 (38%)]\tLoss: 2.264587\n",
      "Train Epoch: 1 [23680/60000 (39%)]\tLoss: 2.260518\n",
      "Train Epoch: 1 [24320/60000 (41%)]\tLoss: 2.247285\n",
      "Train Epoch: 1 [24960/60000 (42%)]\tLoss: 2.237719\n",
      "Train Epoch: 1 [25600/60000 (43%)]\tLoss: 2.258347\n",
      "Train Epoch: 1 [26240/60000 (44%)]\tLoss: 2.254784\n",
      "Train Epoch: 1 [26880/60000 (45%)]\tLoss: 2.249020\n",
      "Train Epoch: 1 [27520/60000 (46%)]\tLoss: 2.216165\n",
      "Train Epoch: 1 [28160/60000 (47%)]\tLoss: 2.225957\n",
      "Train Epoch: 1 [28800/60000 (48%)]\tLoss: 2.220440\n",
      "Train Epoch: 1 [29440/60000 (49%)]\tLoss: 2.208531\n",
      "Train Epoch: 1 [30080/60000 (50%)]\tLoss: 2.219755\n",
      "Train Epoch: 1 [30720/60000 (51%)]\tLoss: 2.236886\n",
      "Train Epoch: 1 [31360/60000 (52%)]\tLoss: 2.163070\n",
      "Train Epoch: 1 [32000/60000 (53%)]\tLoss: 2.206014\n",
      "Train Epoch: 1 [32640/60000 (54%)]\tLoss: 2.173206\n",
      "Train Epoch: 1 [33280/60000 (55%)]\tLoss: 2.167783\n",
      "Train Epoch: 1 [33920/60000 (57%)]\tLoss: 2.144428\n",
      "Train Epoch: 1 [34560/60000 (58%)]\tLoss: 2.135426\n",
      "Train Epoch: 1 [35200/60000 (59%)]\tLoss: 2.132357\n",
      "Train Epoch: 1 [35840/60000 (60%)]\tLoss: 2.083296\n",
      "Train Epoch: 1 [36480/60000 (61%)]\tLoss: 2.089958\n",
      "Train Epoch: 1 [37120/60000 (62%)]\tLoss: 2.099603\n",
      "Train Epoch: 1 [37760/60000 (63%)]\tLoss: 2.111325\n",
      "Train Epoch: 1 [38400/60000 (64%)]\tLoss: 2.009807\n",
      "Train Epoch: 1 [39040/60000 (65%)]\tLoss: 2.083731\n",
      "Train Epoch: 1 [39680/60000 (66%)]\tLoss: 2.096030\n",
      "Train Epoch: 1 [40320/60000 (67%)]\tLoss: 2.045767\n",
      "Train Epoch: 1 [40960/60000 (68%)]\tLoss: 2.024132\n",
      "Train Epoch: 1 [41600/60000 (69%)]\tLoss: 1.981678\n",
      "Train Epoch: 1 [42240/60000 (70%)]\tLoss: 1.987360\n",
      "Train Epoch: 1 [42880/60000 (71%)]\tLoss: 1.956791\n",
      "Train Epoch: 1 [43520/60000 (72%)]\tLoss: 1.964707\n",
      "Train Epoch: 1 [44160/60000 (74%)]\tLoss: 1.974734\n",
      "Train Epoch: 1 [44800/60000 (75%)]\tLoss: 1.910354\n",
      "Train Epoch: 1 [45440/60000 (76%)]\tLoss: 1.955706\n",
      "Train Epoch: 1 [46080/60000 (77%)]\tLoss: 1.893739\n",
      "Train Epoch: 1 [46720/60000 (78%)]\tLoss: 1.935992\n",
      "Train Epoch: 1 [47360/60000 (79%)]\tLoss: 1.832219\n",
      "Train Epoch: 1 [48000/60000 (80%)]\tLoss: 1.921184\n",
      "Train Epoch: 1 [48640/60000 (81%)]\tLoss: 1.958553\n",
      "Train Epoch: 1 [49280/60000 (82%)]\tLoss: 1.889906\n",
      "Train Epoch: 1 [49920/60000 (83%)]\tLoss: 1.862876\n",
      "Train Epoch: 1 [50560/60000 (84%)]\tLoss: 1.878382\n",
      "Train Epoch: 1 [51200/60000 (85%)]\tLoss: 1.816623\n",
      "Train Epoch: 1 [51840/60000 (86%)]\tLoss: 1.822107\n",
      "Train Epoch: 1 [52480/60000 (87%)]\tLoss: 1.922266\n",
      "Train Epoch: 1 [53120/60000 (88%)]\tLoss: 1.809955\n",
      "Train Epoch: 1 [53760/60000 (90%)]\tLoss: 1.787472\n",
      "Train Epoch: 1 [54400/60000 (91%)]\tLoss: 1.903942\n",
      "Train Epoch: 1 [55040/60000 (92%)]\tLoss: 1.802452\n",
      "Train Epoch: 1 [55680/60000 (93%)]\tLoss: 1.889151\n",
      "Train Epoch: 1 [56320/60000 (94%)]\tLoss: 1.831232\n",
      "Train Epoch: 1 [56960/60000 (95%)]\tLoss: 1.795413\n",
      "Train Epoch: 1 [57600/60000 (96%)]\tLoss: 1.748116\n",
      "Train Epoch: 1 [58240/60000 (97%)]\tLoss: 1.860007\n",
      "Train Epoch: 1 [58880/60000 (98%)]\tLoss: 1.901855\n",
      "Train Epoch: 1 [59520/60000 (99%)]\tLoss: 1.803412\n",
      "\n",
      "Test set: Avg. loss: 0.0018, Accuracy: 7413/10000 (74%)\n",
      "\n",
      "Train Epoch: 2 [0/60000 (0%)]\tLoss: 1.745003\n",
      "Train Epoch: 2 [640/60000 (1%)]\tLoss: 1.759425\n",
      "Train Epoch: 2 [1280/60000 (2%)]\tLoss: 1.793862\n",
      "Train Epoch: 2 [1920/60000 (3%)]\tLoss: 1.765812\n",
      "Train Epoch: 2 [2560/60000 (4%)]\tLoss: 1.871698\n",
      "Train Epoch: 2 [3200/60000 (5%)]\tLoss: 1.787561\n",
      "Train Epoch: 2 [3840/60000 (6%)]\tLoss: 1.712208\n",
      "Train Epoch: 2 [4480/60000 (7%)]\tLoss: 1.725193\n",
      "Train Epoch: 2 [5120/60000 (9%)]\tLoss: 1.799839\n",
      "Train Epoch: 2 [5760/60000 (10%)]\tLoss: 1.785894\n",
      "Train Epoch: 2 [6400/60000 (11%)]\tLoss: 1.735994\n",
      "Train Epoch: 2 [7040/60000 (12%)]\tLoss: 1.772185\n",
      "Train Epoch: 2 [7680/60000 (13%)]\tLoss: 1.784257\n",
      "Train Epoch: 2 [8320/60000 (14%)]\tLoss: 1.804605\n",
      "Train Epoch: 2 [8960/60000 (15%)]\tLoss: 1.705011\n",
      "Train Epoch: 2 [9600/60000 (16%)]\tLoss: 1.648864\n",
      "Train Epoch: 2 [10240/60000 (17%)]\tLoss: 1.742670\n",
      "Train Epoch: 2 [10880/60000 (18%)]\tLoss: 1.729553\n",
      "Train Epoch: 2 [11520/60000 (19%)]\tLoss: 1.710958\n",
      "Train Epoch: 2 [12160/60000 (20%)]\tLoss: 1.714225\n",
      "Train Epoch: 2 [12800/60000 (21%)]\tLoss: 1.769067\n",
      "Train Epoch: 2 [13440/60000 (22%)]\tLoss: 1.624806\n",
      "Train Epoch: 2 [14080/60000 (23%)]\tLoss: 1.655434\n",
      "Train Epoch: 2 [14720/60000 (25%)]\tLoss: 1.685996\n",
      "Train Epoch: 2 [15360/60000 (26%)]\tLoss: 1.648557\n",
      "Train Epoch: 2 [16000/60000 (27%)]\tLoss: 1.665098\n",
      "Train Epoch: 2 [16640/60000 (28%)]\tLoss: 1.665385\n",
      "Train Epoch: 2 [17280/60000 (29%)]\tLoss: 1.730221\n",
      "Train Epoch: 2 [17920/60000 (30%)]\tLoss: 1.700146\n",
      "Train Epoch: 2 [18560/60000 (31%)]\tLoss: 1.630728\n",
      "Train Epoch: 2 [19200/60000 (32%)]\tLoss: 1.622972\n",
      "Train Epoch: 2 [19840/60000 (33%)]\tLoss: 1.698995\n",
      "Train Epoch: 2 [20480/60000 (34%)]\tLoss: 1.737864\n",
      "Train Epoch: 2 [21120/60000 (35%)]\tLoss: 1.618540\n",
      "Train Epoch: 2 [21760/60000 (36%)]\tLoss: 1.623324\n",
      "Train Epoch: 2 [22400/60000 (37%)]\tLoss: 1.662640\n",
      "Train Epoch: 2 [23040/60000 (38%)]\tLoss: 1.728295\n",
      "Train Epoch: 2 [23680/60000 (39%)]\tLoss: 1.686811\n",
      "Train Epoch: 2 [24320/60000 (41%)]\tLoss: 1.730334\n",
      "Train Epoch: 2 [24960/60000 (42%)]\tLoss: 1.672833\n",
      "Train Epoch: 2 [25600/60000 (43%)]\tLoss: 1.670224\n",
      "Train Epoch: 2 [26240/60000 (44%)]\tLoss: 1.638850\n",
      "Train Epoch: 2 [26880/60000 (45%)]\tLoss: 1.638711\n",
      "Train Epoch: 2 [27520/60000 (46%)]\tLoss: 1.624083\n",
      "Train Epoch: 2 [28160/60000 (47%)]\tLoss: 1.649287\n",
      "Train Epoch: 2 [28800/60000 (48%)]\tLoss: 1.665841\n",
      "Train Epoch: 2 [29440/60000 (49%)]\tLoss: 1.693188\n",
      "Train Epoch: 2 [30080/60000 (50%)]\tLoss: 1.645335\n",
      "Train Epoch: 2 [30720/60000 (51%)]\tLoss: 1.678138\n",
      "Train Epoch: 2 [31360/60000 (52%)]\tLoss: 1.617974\n",
      "Train Epoch: 2 [32000/60000 (53%)]\tLoss: 1.664597\n",
      "Train Epoch: 2 [32640/60000 (54%)]\tLoss: 1.627035\n",
      "Train Epoch: 2 [33280/60000 (55%)]\tLoss: 1.600191\n",
      "Train Epoch: 2 [33920/60000 (57%)]\tLoss: 1.643250\n",
      "Train Epoch: 2 [34560/60000 (58%)]\tLoss: 1.610139\n",
      "Train Epoch: 2 [35200/60000 (59%)]\tLoss: 1.626667\n",
      "Train Epoch: 2 [35840/60000 (60%)]\tLoss: 1.654247\n",
      "Train Epoch: 2 [36480/60000 (61%)]\tLoss: 1.646043\n",
      "Train Epoch: 2 [37120/60000 (62%)]\tLoss: 1.614517\n",
      "Train Epoch: 2 [37760/60000 (63%)]\tLoss: 1.619427\n",
      "Train Epoch: 2 [38400/60000 (64%)]\tLoss: 1.634959\n",
      "Train Epoch: 2 [39040/60000 (65%)]\tLoss: 1.621489\n",
      "Train Epoch: 2 [39680/60000 (66%)]\tLoss: 1.571937\n",
      "Train Epoch: 2 [40320/60000 (67%)]\tLoss: 1.614138\n",
      "Train Epoch: 2 [40960/60000 (68%)]\tLoss: 1.628128\n",
      "Train Epoch: 2 [41600/60000 (69%)]\tLoss: 1.664404\n",
      "Train Epoch: 2 [42240/60000 (70%)]\tLoss: 1.635646\n",
      "Train Epoch: 2 [42880/60000 (71%)]\tLoss: 1.617437\n",
      "Train Epoch: 2 [43520/60000 (72%)]\tLoss: 1.596235\n",
      "Train Epoch: 2 [44160/60000 (74%)]\tLoss: 1.635122\n"
     ]
    },
    {
     "name": "stdout",
     "output_type": "stream",
     "text": [
      "Train Epoch: 2 [44800/60000 (75%)]\tLoss: 1.607803\n",
      "Train Epoch: 2 [45440/60000 (76%)]\tLoss: 1.550910\n",
      "Train Epoch: 2 [46080/60000 (77%)]\tLoss: 1.623260\n",
      "Train Epoch: 2 [46720/60000 (78%)]\tLoss: 1.597065\n",
      "Train Epoch: 2 [47360/60000 (79%)]\tLoss: 1.592143\n",
      "Train Epoch: 2 [48000/60000 (80%)]\tLoss: 1.672705\n",
      "Train Epoch: 2 [48640/60000 (81%)]\tLoss: 1.597439\n",
      "Train Epoch: 2 [49280/60000 (82%)]\tLoss: 1.618795\n",
      "Train Epoch: 2 [49920/60000 (83%)]\tLoss: 1.611450\n",
      "Train Epoch: 2 [50560/60000 (84%)]\tLoss: 1.581304\n",
      "Train Epoch: 2 [51200/60000 (85%)]\tLoss: 1.576569\n",
      "Train Epoch: 2 [51840/60000 (86%)]\tLoss: 1.573663\n",
      "Train Epoch: 2 [52480/60000 (87%)]\tLoss: 1.598038\n",
      "Train Epoch: 2 [53120/60000 (88%)]\tLoss: 1.632077\n",
      "Train Epoch: 2 [53760/60000 (90%)]\tLoss: 1.563908\n",
      "Train Epoch: 2 [54400/60000 (91%)]\tLoss: 1.588020\n",
      "Train Epoch: 2 [55040/60000 (92%)]\tLoss: 1.654749\n",
      "Train Epoch: 2 [55680/60000 (93%)]\tLoss: 1.616763\n",
      "Train Epoch: 2 [56320/60000 (94%)]\tLoss: 1.588935\n",
      "Train Epoch: 2 [56960/60000 (95%)]\tLoss: 1.672199\n",
      "Train Epoch: 2 [57600/60000 (96%)]\tLoss: 1.535164\n",
      "Train Epoch: 2 [58240/60000 (97%)]\tLoss: 1.651151\n",
      "Train Epoch: 2 [58880/60000 (98%)]\tLoss: 1.642506\n",
      "Train Epoch: 2 [59520/60000 (99%)]\tLoss: 1.632842\n",
      "\n",
      "Test set: Avg. loss: 0.0016, Accuracy: 8990/10000 (90%)\n",
      "\n",
      "Train Epoch: 3 [0/60000 (0%)]\tLoss: 1.639999\n",
      "Train Epoch: 3 [640/60000 (1%)]\tLoss: 1.616486\n",
      "Train Epoch: 3 [1280/60000 (2%)]\tLoss: 1.646740\n",
      "Train Epoch: 3 [1920/60000 (3%)]\tLoss: 1.622153\n",
      "Train Epoch: 3 [2560/60000 (4%)]\tLoss: 1.575508\n",
      "Train Epoch: 3 [3200/60000 (5%)]\tLoss: 1.540021\n",
      "Train Epoch: 3 [3840/60000 (6%)]\tLoss: 1.565587\n",
      "Train Epoch: 3 [4480/60000 (7%)]\tLoss: 1.650193\n",
      "Train Epoch: 3 [5120/60000 (9%)]\tLoss: 1.607837\n",
      "Train Epoch: 3 [5760/60000 (10%)]\tLoss: 1.623029\n",
      "Train Epoch: 3 [6400/60000 (11%)]\tLoss: 1.573879\n",
      "Train Epoch: 3 [7040/60000 (12%)]\tLoss: 1.596026\n",
      "Train Epoch: 3 [7680/60000 (13%)]\tLoss: 1.586146\n",
      "Train Epoch: 3 [8320/60000 (14%)]\tLoss: 1.574845\n",
      "Train Epoch: 3 [8960/60000 (15%)]\tLoss: 1.580385\n",
      "Train Epoch: 3 [9600/60000 (16%)]\tLoss: 1.599750\n",
      "Train Epoch: 3 [10240/60000 (17%)]\tLoss: 1.541971\n",
      "Train Epoch: 3 [10880/60000 (18%)]\tLoss: 1.553679\n",
      "Train Epoch: 3 [11520/60000 (19%)]\tLoss: 1.608844\n",
      "Train Epoch: 3 [12160/60000 (20%)]\tLoss: 1.552356\n",
      "Train Epoch: 3 [12800/60000 (21%)]\tLoss: 1.551935\n",
      "Train Epoch: 3 [13440/60000 (22%)]\tLoss: 1.593860\n",
      "Train Epoch: 3 [14080/60000 (23%)]\tLoss: 1.581332\n",
      "Train Epoch: 3 [14720/60000 (25%)]\tLoss: 1.575373\n",
      "Train Epoch: 3 [15360/60000 (26%)]\tLoss: 1.518139\n",
      "Train Epoch: 3 [16000/60000 (27%)]\tLoss: 1.558056\n",
      "Train Epoch: 3 [16640/60000 (28%)]\tLoss: 1.594947\n",
      "Train Epoch: 3 [17280/60000 (29%)]\tLoss: 1.572852\n",
      "Train Epoch: 3 [17920/60000 (30%)]\tLoss: 1.543083\n",
      "Train Epoch: 3 [18560/60000 (31%)]\tLoss: 1.613925\n",
      "Train Epoch: 3 [19200/60000 (32%)]\tLoss: 1.623709\n",
      "Train Epoch: 3 [19840/60000 (33%)]\tLoss: 1.578897\n",
      "Train Epoch: 3 [20480/60000 (34%)]\tLoss: 1.631472\n",
      "Train Epoch: 3 [21120/60000 (35%)]\tLoss: 1.630493\n",
      "Train Epoch: 3 [21760/60000 (36%)]\tLoss: 1.528018\n",
      "Train Epoch: 3 [22400/60000 (37%)]\tLoss: 1.582175\n",
      "Train Epoch: 3 [23040/60000 (38%)]\tLoss: 1.562041\n",
      "Train Epoch: 3 [23680/60000 (39%)]\tLoss: 1.576494\n",
      "Train Epoch: 3 [24320/60000 (41%)]\tLoss: 1.562396\n",
      "Train Epoch: 3 [24960/60000 (42%)]\tLoss: 1.593362\n",
      "Train Epoch: 3 [25600/60000 (43%)]\tLoss: 1.577505\n",
      "Train Epoch: 3 [26240/60000 (44%)]\tLoss: 1.566071\n",
      "Train Epoch: 3 [26880/60000 (45%)]\tLoss: 1.585670\n",
      "Train Epoch: 3 [27520/60000 (46%)]\tLoss: 1.586216\n",
      "Train Epoch: 3 [28160/60000 (47%)]\tLoss: 1.583142\n",
      "Train Epoch: 3 [28800/60000 (48%)]\tLoss: 1.567072\n",
      "Train Epoch: 3 [29440/60000 (49%)]\tLoss: 1.571360\n",
      "Train Epoch: 3 [30080/60000 (50%)]\tLoss: 1.610400\n",
      "Train Epoch: 3 [30720/60000 (51%)]\tLoss: 1.533327\n",
      "Train Epoch: 3 [31360/60000 (52%)]\tLoss: 1.566740\n",
      "Train Epoch: 3 [32000/60000 (53%)]\tLoss: 1.529280\n",
      "Train Epoch: 3 [32640/60000 (54%)]\tLoss: 1.624973\n",
      "Train Epoch: 3 [33280/60000 (55%)]\tLoss: 1.549710\n",
      "Train Epoch: 3 [33920/60000 (57%)]\tLoss: 1.558713\n",
      "Train Epoch: 3 [34560/60000 (58%)]\tLoss: 1.581173\n",
      "Train Epoch: 3 [35200/60000 (59%)]\tLoss: 1.548583\n",
      "Train Epoch: 3 [35840/60000 (60%)]\tLoss: 1.560579\n",
      "Train Epoch: 3 [36480/60000 (61%)]\tLoss: 1.592239\n",
      "Train Epoch: 3 [37120/60000 (62%)]\tLoss: 1.576544\n",
      "Train Epoch: 3 [37760/60000 (63%)]\tLoss: 1.555407\n",
      "Train Epoch: 3 [38400/60000 (64%)]\tLoss: 1.559979\n",
      "Train Epoch: 3 [39040/60000 (65%)]\tLoss: 1.608906\n",
      "Train Epoch: 3 [39680/60000 (66%)]\tLoss: 1.592896\n",
      "Train Epoch: 3 [40320/60000 (67%)]\tLoss: 1.573787\n",
      "Train Epoch: 3 [40960/60000 (68%)]\tLoss: 1.541556\n",
      "Train Epoch: 3 [41600/60000 (69%)]\tLoss: 1.608194\n",
      "Train Epoch: 3 [42240/60000 (70%)]\tLoss: 1.545195\n",
      "Train Epoch: 3 [42880/60000 (71%)]\tLoss: 1.593290\n",
      "Train Epoch: 3 [43520/60000 (72%)]\tLoss: 1.529174\n",
      "Train Epoch: 3 [44160/60000 (74%)]\tLoss: 1.525993\n",
      "Train Epoch: 3 [44800/60000 (75%)]\tLoss: 1.619578\n",
      "Train Epoch: 3 [45440/60000 (76%)]\tLoss: 1.553618\n",
      "Train Epoch: 3 [46080/60000 (77%)]\tLoss: 1.588266\n",
      "Train Epoch: 3 [46720/60000 (78%)]\tLoss: 1.567929\n",
      "Train Epoch: 3 [47360/60000 (79%)]\tLoss: 1.613776\n",
      "Train Epoch: 3 [48000/60000 (80%)]\tLoss: 1.567091\n",
      "Train Epoch: 3 [48640/60000 (81%)]\tLoss: 1.580251\n",
      "Train Epoch: 3 [49280/60000 (82%)]\tLoss: 1.578546\n",
      "Train Epoch: 3 [49920/60000 (83%)]\tLoss: 1.540946\n",
      "Train Epoch: 3 [50560/60000 (84%)]\tLoss: 1.519888\n",
      "Train Epoch: 3 [51200/60000 (85%)]\tLoss: 1.505536\n",
      "Train Epoch: 3 [51840/60000 (86%)]\tLoss: 1.583337\n",
      "Train Epoch: 3 [52480/60000 (87%)]\tLoss: 1.579189\n",
      "Train Epoch: 3 [53120/60000 (88%)]\tLoss: 1.654155\n",
      "Train Epoch: 3 [53760/60000 (90%)]\tLoss: 1.535215\n",
      "Train Epoch: 3 [54400/60000 (91%)]\tLoss: 1.611443\n",
      "Train Epoch: 3 [55040/60000 (92%)]\tLoss: 1.543673\n",
      "Train Epoch: 3 [55680/60000 (93%)]\tLoss: 1.577980\n",
      "Train Epoch: 3 [56320/60000 (94%)]\tLoss: 1.600349\n",
      "Train Epoch: 3 [56960/60000 (95%)]\tLoss: 1.601238\n",
      "Train Epoch: 3 [57600/60000 (96%)]\tLoss: 1.594442\n",
      "Train Epoch: 3 [58240/60000 (97%)]\tLoss: 1.552346\n",
      "Train Epoch: 3 [58880/60000 (98%)]\tLoss: 1.536748\n",
      "Train Epoch: 3 [59520/60000 (99%)]\tLoss: 1.630934\n",
      "\n",
      "Test set: Avg. loss: 0.0016, Accuracy: 9124/10000 (91%)\n",
      "\n"
     ]
    }
   ],
   "source": [
    "test()\n",
    "\n",
    "# Pruning every 3 epochs\n",
    "for epoch in range(1, n_epochs + 1):\n",
    "  train(epoch)\n",
    "  test()\n",
    "    \n"
   ]
  },
  {
   "cell_type": "code",
   "execution_count": 69,
   "metadata": {},
   "outputs": [
    {
     "name": "stdout",
     "output_type": "stream",
     "text": [
      "Layer 0 , Parameters: torch.Size([400, 784])\n",
      "Layer 1 , Parameters: torch.Size([400])\n",
      "Layer 2 , Parameters: torch.Size([50, 400])\n",
      "Layer 3 , Parameters: torch.Size([50])\n",
      "Layer 4 , Parameters: torch.Size([10, 50])\n",
      "Layer 5 , Parameters: torch.Size([10])\n"
     ]
    }
   ],
   "source": [
    "for (layer, param) in enumerate(model.parameters()):\n",
    "    print(\"Layer {} , Parameters: {}\".format(layer, param.shape))"
   ]
  },
  {
   "cell_type": "code",
   "execution_count": 70,
   "metadata": {},
   "outputs": [],
   "source": [
    "neurons_to_prune = []\n",
    "for p in model.parameters():\n",
    "        if len(p.data.size()) != 1:\n",
    "            normed_weights = p.data.abs()\n",
    "            l1_norm_layer = []\n",
    "            for neuron_idx in range(normed_weights.shape[0]):\n",
    "                l1_norm_layer.append(torch.sum(normed_weights[neuron_idx, :]).item())\n",
    "            neurons_to_prune.append(torch.argmin(torch.FloatTensor(l1_norm_layer)))\n",
    "            neurons_to_prune.append(torch.argmin(torch.FloatTensor(l1_norm_layer)))\n",
    "                "
   ]
  },
  {
   "cell_type": "code",
   "execution_count": 71,
   "metadata": {},
   "outputs": [],
   "source": [
    "neurons_to_prune = neurons_to_prune[:-2]"
   ]
  },
  {
   "cell_type": "code",
   "execution_count": 72,
   "metadata": {},
   "outputs": [
    {
     "data": {
      "text/plain": [
       "Parameter containing:\n",
       "tensor([[-0.0353,  0.0011,  0.0056,  ..., -0.0005,  0.0297, -0.0037],\n",
       "        [ 0.0192,  0.0163,  0.0266,  ..., -0.0112, -0.0005,  0.0282],\n",
       "        [ 0.0209, -0.0029, -0.0197,  ..., -0.0268, -0.0195,  0.0038],\n",
       "        ...,\n",
       "        [-0.0351, -0.0332, -0.0285,  ...,  0.0203,  0.0110,  0.0114],\n",
       "        [ 0.0190, -0.0052,  0.0093,  ...,  0.0325,  0.0255,  0.0067],\n",
       "        [ 0.0065,  0.0127, -0.0162,  ..., -0.0003, -0.0091, -0.0072]],\n",
       "       requires_grad=True)"
      ]
     },
     "execution_count": 72,
     "metadata": {},
     "output_type": "execute_result"
    }
   ],
   "source": [
    "list(model.parameters())[0]"
   ]
  },
  {
   "cell_type": "code",
   "execution_count": 73,
   "metadata": {},
   "outputs": [
    {
     "name": "stdout",
     "output_type": "stream",
     "text": [
      "torch.Size([399, 784])\n",
      "torch.Size([399])\n",
      "torch.Size([50, 42])\n",
      "torch.Size([50, 399])\n",
      "torch.Size([49])\n"
     ]
    }
   ],
   "source": [
    "param_list = list(model.parameters())\n",
    "for i, neuron_idx in enumerate(neurons_to_prune):\n",
    "    idx_weights = param_list[i]\n",
    "    y = torch.cat((idx_weights[0:neuron_idx], idx_weights[neuron_idx+1:]))\n",
    "    if i > 1 and len(idx_weights.shape) > 1:\n",
    "        y = torch.cat((idx_weights[:, 0:neuron_idx-1], idx_weights[:, neuron_idx:]), axis=1)\n",
    "    print(y.shape)\n",
    "\n",
    "    idx_weights.data = y"
   ]
  },
  {
   "cell_type": "code",
   "execution_count": 74,
   "metadata": {},
   "outputs": [
    {
     "name": "stdout",
     "output_type": "stream",
     "text": [
      "Layer 0 , Parameters: torch.Size([399, 784])\n",
      "Layer 1 , Parameters: torch.Size([399])\n",
      "Layer 2 , Parameters: torch.Size([50, 399])\n",
      "Layer 3 , Parameters: torch.Size([49])\n",
      "Layer 4 , Parameters: torch.Size([10, 50])\n",
      "Layer 5 , Parameters: torch.Size([10])\n"
     ]
    }
   ],
   "source": [
    "for (layer, param) in enumerate(model.parameters()):\n",
    "    print(\"Layer {} , Parameters: {}\".format(layer, param.shape))"
   ]
  },
  {
   "cell_type": "code",
   "execution_count": 60,
   "metadata": {},
   "outputs": [
    {
     "data": {
      "text/plain": [
       "tensor([[-0.0241, -0.0201,  0.0112,  ...,  0.0152, -0.0048, -0.0302],\n",
       "        [ 0.0199,  0.0312,  0.0181,  ..., -0.0262, -0.0269, -0.0204],\n",
       "        [ 0.0144, -0.0292,  0.0177,  ..., -0.0168, -0.0165, -0.0345],\n",
       "        ...,\n",
       "        [-0.0134,  0.0108, -0.0238,  ..., -0.0300,  0.0301, -0.0255],\n",
       "        [ 0.0274, -0.0345, -0.0261,  ..., -0.0155, -0.0024, -0.0271],\n",
       "        [ 0.0157, -0.0022, -0.0255,  ...,  0.0204,  0.0325, -0.0283]])"
      ]
     },
     "execution_count": 60,
     "metadata": {},
     "output_type": "execute_result"
    }
   ],
   "source": [
    "model.state_dict()['input_layer.weight']"
   ]
  },
  {
   "cell_type": "code",
   "execution_count": 59,
   "metadata": {},
   "outputs": [
    {
     "name": "stdout",
     "output_type": "stream",
     "text": [
      "softmax\n"
     ]
    }
   ],
   "source": [
    "updated_model =  Network({\n",
    "        \"network\":{\n",
    "            'input_layer': {\n",
    "                \"units\": 784,\n",
    "                \n",
    "                },\n",
    "            'hidden_layer': [{\n",
    "                    \"units\": 399, \n",
    "                    \"type\": \"Linear\"\n",
    "                }, \n",
    "                {\n",
    "                    \"units\": 49, \n",
    "                    \"activation\": \"relu\",\n",
    "                    \"type\": \"Linear\"\n",
    "\n",
    "                }],\n",
    "            'output_layer': {\n",
    "                \"units\": 10,\n",
    "                \"activation\": \"softmax\",\n",
    "                \"type\": \"Linear\"\n",
    "                }\n",
    "        }\n",
    "    })"
   ]
  },
  {
   "cell_type": "code",
   "execution_count": 62,
   "metadata": {},
   "outputs": [
    {
     "ename": "RuntimeError",
     "evalue": "Error(s) in loading state_dict for Network:\n\tsize mismatch for hidden_layers.0.weight: copying a param with shape torch.Size([49, 400]) from checkpoint, the shape in current model is torch.Size([49, 399]).\n\tsize mismatch for output_layer.weight: copying a param with shape torch.Size([10, 50]) from checkpoint, the shape in current model is torch.Size([10, 49]).",
     "output_type": "error",
     "traceback": [
      "\u001b[0;31m---------------------------------------------------------------------------\u001b[0m",
      "\u001b[0;31mRuntimeError\u001b[0m                              Traceback (most recent call last)",
      "\u001b[0;32m<ipython-input-62-8beb7b93678b>\u001b[0m in \u001b[0;36m<module>\u001b[0;34m\u001b[0m\n\u001b[0;32m----> 1\u001b[0;31m \u001b[0mupdated_model\u001b[0m\u001b[0;34m.\u001b[0m\u001b[0mload_state_dict\u001b[0m\u001b[0;34m(\u001b[0m\u001b[0mmodel\u001b[0m\u001b[0;34m.\u001b[0m\u001b[0mstate_dict\u001b[0m\u001b[0;34m(\u001b[0m\u001b[0;34m)\u001b[0m\u001b[0;34m)\u001b[0m\u001b[0;34m\u001b[0m\u001b[0;34m\u001b[0m\u001b[0m\n\u001b[0m",
      "\u001b[0;32m~/.local/lib/python3.6/site-packages/torch/nn/modules/module.py\u001b[0m in \u001b[0;36mload_state_dict\u001b[0;34m(self, state_dict, strict)\u001b[0m\n\u001b[1;32m    837\u001b[0m         \u001b[0;32mif\u001b[0m \u001b[0mlen\u001b[0m\u001b[0;34m(\u001b[0m\u001b[0merror_msgs\u001b[0m\u001b[0;34m)\u001b[0m \u001b[0;34m>\u001b[0m \u001b[0;36m0\u001b[0m\u001b[0;34m:\u001b[0m\u001b[0;34m\u001b[0m\u001b[0;34m\u001b[0m\u001b[0m\n\u001b[1;32m    838\u001b[0m             raise RuntimeError('Error(s) in loading state_dict for {}:\\n\\t{}'.format(\n\u001b[0;32m--> 839\u001b[0;31m                                self.__class__.__name__, \"\\n\\t\".join(error_msgs)))\n\u001b[0m\u001b[1;32m    840\u001b[0m         \u001b[0;32mreturn\u001b[0m \u001b[0m_IncompatibleKeys\u001b[0m\u001b[0;34m(\u001b[0m\u001b[0mmissing_keys\u001b[0m\u001b[0;34m,\u001b[0m \u001b[0munexpected_keys\u001b[0m\u001b[0;34m)\u001b[0m\u001b[0;34m\u001b[0m\u001b[0;34m\u001b[0m\u001b[0m\n\u001b[1;32m    841\u001b[0m \u001b[0;34m\u001b[0m\u001b[0m\n",
      "\u001b[0;31mRuntimeError\u001b[0m: Error(s) in loading state_dict for Network:\n\tsize mismatch for hidden_layers.0.weight: copying a param with shape torch.Size([49, 400]) from checkpoint, the shape in current model is torch.Size([49, 399]).\n\tsize mismatch for output_layer.weight: copying a param with shape torch.Size([10, 50]) from checkpoint, the shape in current model is torch.Size([10, 49])."
     ]
    }
   ],
   "source": [
    "updated_model.load_state_dict(model.state_dict())"
   ]
  },
  {
   "cell_type": "code",
   "execution_count": null,
   "metadata": {},
   "outputs": [],
   "source": []
  }
 ],
 "metadata": {
  "kernelspec": {
   "display_name": "Python 3",
   "language": "python",
   "name": "python3"
  },
  "language_info": {
   "codemirror_mode": {
    "name": "ipython",
    "version": 3
   },
   "file_extension": ".py",
   "mimetype": "text/x-python",
   "name": "python",
   "nbconvert_exporter": "python",
   "pygments_lexer": "ipython3",
   "version": "3.6.8"
  }
 },
 "nbformat": 4,
 "nbformat_minor": 2
}
